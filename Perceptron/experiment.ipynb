{
 "cells": [
  {
   "cell_type": "markdown",
   "metadata": {},
   "source": [
    "## Part II : Using the perceptron"
   ]
  },
  {
   "cell_type": "markdown",
   "metadata": {},
   "source": [
    "Import the libraries"
   ]
  },
  {
   "cell_type": "code",
   "execution_count": 82,
   "metadata": {},
   "outputs": [],
   "source": [
    "# Standard scientific Python imports\n",
    "import matplotlib.pyplot as plt\n",
    "import numpy as np\n",
    "import time\n",
    "\n",
    "\n",
    "# Import datasets, classifiers and performance metrics\n",
    "from sklearn import datasets, metrics\n",
    "from sklearn.model_selection import train_test_split\n",
    "from sklearn.model_selection import KFold\n",
    "\n",
    "\n",
    "\n",
    "# Import our perceptron implementation\n",
    "from perceptron import Perceptron \n"
   ]
  },
  {
   "cell_type": "markdown",
   "metadata": {},
   "source": [
    "Loading the dataset and plotting the first images"
   ]
  },
  {
   "cell_type": "code",
   "execution_count": 83,
   "metadata": {},
   "outputs": [
    {
     "data": {
      "image/png": "[encoded data removed]",
      "text/plain": [
       "<Figure size 1000x300 with 8 Axes>"
      ]
     },
     "metadata": {},
     "output_type": "display_data"
    }
   ],
   "source": [
    "digits = datasets.load_digits()\n",
    "_, axes = plt.subplots(nrows=1, ncols=8, figsize=(10, 3))\n",
    "for ax, image, label in zip(axes, digits.images, digits.target):\n",
    "    ax.set_axis_off()\n",
    "    ax.imshow(image, cmap=plt.cm.gray_r, interpolation=\"nearest\")\n",
    "    ax.set_title(\"Training: %i\" % label)\n"
   ]
  },
  {
   "cell_type": "markdown",
   "metadata": {},
   "source": [
    "Discarding the images that are not 0 or 1"
   ]
  },
  {
   "cell_type": "code",
   "execution_count": 84,
   "metadata": {},
   "outputs": [
    {
     "data": {
      "image/png": "[encoded data removed]",
      "text/plain": [
       "<Figure size 1000x300 with 8 Axes>"
      ]
     },
     "metadata": {},
     "output_type": "display_data"
    }
   ],
   "source": [
    "# Filter the dataset to keep only the digits 0 and 1, coded using ChatGPT\n",
    "mask = (digits.target == 0) | (digits.target == 1)\n",
    "filtered_images = digits.images[mask]\n",
    "filtered_labels = digits.target[mask]\n",
    "\n",
    "# plotting the first 8 images to verify\n",
    "_, axes = plt.subplots(nrows=1, ncols=8, figsize=(10, 3))\n",
    "for ax, image, label in zip(axes, filtered_images, filtered_labels):\n",
    "    ax.set_axis_off()\n",
    "    ax.imshow(image, cmap=plt.cm.gray_r, interpolation=\"nearest\")\n",
    "    ax.set_title(\"Training: %i\" % label)\n"
   ]
  },
  {
   "cell_type": "markdown",
   "metadata": {},
   "source": [
    "## Classification  \n",
    "\n",
    "To apply a classifier on this data, we need to flatten the images, turning each 2-D array of grayscale values from shape (8, 8) into shape (64,). Subsequently, the entire dataset will be of shape (n_samples, n_features), where n_samples is the number of images and n_features is the total number of pixels in each image.\n",
    "\n",
    "We can then split the data into train and test subsets."
   ]
  },
  {
   "cell_type": "code",
   "execution_count": 85,
   "metadata": {},
   "outputs": [],
   "source": [
    "# flatten the images\n",
    "n_samples = len(filtered_images)\n",
    "data = filtered_images.reshape((n_samples, -1))\n",
    "\n",
    "\n",
    "# Split data into 80% train and 20% test subsets\n",
    "X_train_, X_test, y_train_, y_test = train_test_split(\n",
    "    data, filtered_labels, test_size=0.2, random_state=0\n",
    ")\n",
    "\n",
    "# The conversion of label 0 to -1 for the activation function\n",
    "for i in range(len(y_train_)):\n",
    "    if y_train_[i]==0:\n",
    "        y_train_[i]=-1\n",
    "\n",
    "for i in range(len(y_test)):\n",
    "    if y_test[i]==0:\n",
    "        y_test[i]=-1\n",
    "\n"
   ]
  },
  {
   "cell_type": "markdown",
   "metadata": {},
   "source": [
    "Performing a 5-fold cross validation to evaluate our model on the validation set"
   ]
  },
  {
   "cell_type": "code",
   "execution_count": 86,
   "metadata": {},
   "outputs": [
    {
     "name": "stdout",
     "output_type": "stream",
     "text": [
      "scores :[1.0, 1.0, 1.0, 1.0, 1.0]\n",
      "Average Score: 1.0\n"
     ]
    }
   ],
   "source": [
    "# Number of folds\n",
    "n_splits = 5\n",
    "\n",
    "# Create KFold object\n",
    "kf = KFold(n_splits=n_splits)\n",
    "\n",
    "# Initialize list to store scores\n",
    "scores = []\n",
    "\n",
    "# Iterate over each split, coded with chatGPT\n",
    "for train_index, test_index in kf.split(X_train_):\n",
    "    # Split data\n",
    "    X_train, X_test = X_train_[train_index], X_train_[test_index]\n",
    "    y_train, y_test = y_train_[train_index], y_train_[test_index]\n",
    "\n",
    "    # Initialize your Perceptron model\n",
    "    clf = Perceptron()\n",
    "\n",
    "    # Train the model\n",
    "    clf.train(X_train, y_train)\n",
    "\n",
    "    # Evaluate the model\n",
    "    y_pred = clf.predict(X_test)\n",
    "    score = np.mean(y_pred == y_test)\n",
    "    scores.append(score)\n",
    "\n",
    "# Calculate average performance\n",
    "average_score = np.mean(scores)\n",
    "print(f\"scores :{scores}\")\n",
    "print(f\"Average Score: {average_score}\")"
   ]
  },
  {
   "cell_type": "markdown",
   "metadata": {},
   "source": [
    "We can now fit our perceptron classifier on the train samples. The fitted classifier can subsequently be used to predict the value of the digit for the samples in the test subset, we also mesure how fast it is on the testing set."
   ]
  },
  {
   "cell_type": "code",
   "execution_count": 87,
   "metadata": {},
   "outputs": [
    {
     "name": "stdout",
     "output_type": "stream",
     "text": [
      "Predicting time: 0.0 seconds\n",
      "Training time: 0.0019979476928710938 seconds\n",
      "Testing time: 0.0019979476928710938 seconds\n"
     ]
    }
   ],
   "source": [
    "# Create a classifier\n",
    "clf = Perceptron()\n",
    "\n",
    "start_training = time.time()\n",
    "# Learn the digits on the train subset\n",
    "clf.train(X_train_,y_train_)\n",
    "end_training = time.time()\n",
    "# Start timer\n",
    "start_time = time.time()\n",
    "\n",
    "# Predict the value of the digit on the test subset\n",
    "predicted = clf.predict(X_test)\n",
    "# End timer\n",
    "end_time = time.time()\n",
    "# Calculate and print the elapsed time\n",
    "elapsed_time_predict = end_time - start_time\n",
    "elapsed_time_training = end_training-start_training\n",
    "\n",
    "my_training_time = elapsed_time_predict+elapsed_time_training\n",
    "\n",
    "print(f\"Predicting time: {elapsed_time_predict} seconds\")\n",
    "print(f\"Training time: {elapsed_time_training} seconds\")\n",
    "print(f\"Testing time: {elapsed_time_predict + elapsed_time_training} seconds\")"
   ]
  },
  {
   "cell_type": "markdown",
   "metadata": {},
   "source": [
    "Below we visualize the first 6 test samples and show their predicted digit value in the title.\n",
    "\n"
   ]
  },
  {
   "cell_type": "code",
   "execution_count": 88,
   "metadata": {},
   "outputs": [
    {
     "name": "stdout",
     "output_type": "stream",
     "text": [
      "The accuracy of our classifier is 100.0\n"
     ]
    },
    {
     "data": {
      "image/png": "[encoded data removed]",
      "text/plain": [
       "<Figure size 1000x300 with 6 Axes>"
      ]
     },
     "metadata": {},
     "output_type": "display_data"
    }
   ],
   "source": [
    "# flip the labels \"-1\" back to 0\n",
    "for i in range(len(predicted)):\n",
    "    if predicted[i]==-1:\n",
    "        predicted[i]=0\n",
    "\n",
    "for i in range(len(y_test)):\n",
    "    if y_test[i]==-1:\n",
    "        y_test[i]=0\n",
    "\n",
    "\n",
    "# plot the first 6 labels to verify our classification     \n",
    "_, axes = plt.subplots(nrows=1, ncols=6, figsize=(10, 3))\n",
    "for ax, image, prediction in zip(axes, X_test, predicted):\n",
    "    ax.set_axis_off()\n",
    "    image = image.reshape(8, 8)\n",
    "    ax.imshow(image, cmap=plt.cm.gray_r, interpolation=\"nearest\")\n",
    "    ax.set_title(f\"Prediction: {prediction}\")\n",
    "\n",
    "\n",
    "\n",
    "# plot the accuracy of our Perceptron\n",
    "accuracy = metrics.accuracy_score(predicted, y_test)\n",
    "print(\"The accuracy of our classifier is {}\".format(100*accuracy))"
   ]
  },
  {
   "cell_type": "markdown",
   "metadata": {},
   "source": [
    "Classification_report builds a text report showing the main classification metrics.\n",
    "\n",
    "\n"
   ]
  },
  {
   "cell_type": "code",
   "execution_count": 89,
   "metadata": {},
   "outputs": [
    {
     "name": "stdout",
     "output_type": "stream",
     "text": [
      "Classification report for Perceptron:\n",
      "              precision    recall  f1-score   support\n",
      "\n",
      "           0       1.00      1.00      1.00        26\n",
      "           1       1.00      1.00      1.00        31\n",
      "\n",
      "    accuracy                           1.00        57\n",
      "   macro avg       1.00      1.00      1.00        57\n",
      "weighted avg       1.00      1.00      1.00        57\n",
      "\n",
      "\n"
     ]
    }
   ],
   "source": [
    "print(\n",
    "    f\"Classification report for Perceptron:\\n\"\n",
    "    f\"{metrics.classification_report(y_test, predicted)}\\n\"\n",
    ")\n"
   ]
  },
  {
   "cell_type": "markdown",
   "metadata": {},
   "source": [
    "# Comparison with Scikit-learn"
   ]
  },
  {
   "cell_type": "markdown",
   "metadata": {},
   "source": [
    "We load and intialize scikit-learn's Perceptron, and plot its performance"
   ]
  },
  {
   "cell_type": "code",
   "execution_count": 90,
   "metadata": {},
   "outputs": [
    {
     "name": "stdout",
     "output_type": "stream",
     "text": [
      "Predicting time: 0.0 seconds\n",
      "Training time: 0.002000570297241211 seconds\n",
      "Testing - sklearn time: 0.002000570297241211 seconds\n",
      "Accuracy of sk learn's model ; 100.0\n"
     ]
    }
   ],
   "source": [
    "from sklearn.linear_model import Perceptron as Perceptron_sk\n",
    "\n",
    "# Create a classifier\n",
    "clf = Perceptron_sk()\n",
    "\n",
    "start_training = time.time()\n",
    "# Learn the digits on the train subset\n",
    "clf.fit(X_train_,y_train_)\n",
    "end_training = time.time()\n",
    "# Start timer\n",
    "start_time = time.time()\n",
    "\n",
    "# Predict the value of the digit on the test subset\n",
    "predicted = clf.predict(X_test)\n",
    "# End timer\n",
    "end_time = time.time()\n",
    "# Calculate and print the elapsed time\n",
    "elapsed_time_predict = end_time - start_time\n",
    "elapsed_time_training = end_training-start_training\n",
    "\n",
    "sk_training_time = elapsed_time_predict + elapsed_time_training\n",
    "\n",
    "print(f\"Predicting time: {elapsed_time_predict} seconds\")\n",
    "print(f\"Training time: {elapsed_time_training} seconds\")\n",
    "print(f\"Testing - sklearn time: {elapsed_time_predict + elapsed_time_training} seconds\")\n",
    "\n",
    "\n",
    "\n",
    "# flip the labels \"-1\" back to 0\n",
    "for i in range(len(predicted)):\n",
    "    if predicted[i]==-1:\n",
    "        predicted[i]=0\n",
    "\n",
    "for i in range(len(y_test)):\n",
    "    if y_test[i]==-1:\n",
    "        y_test[i]=0\n",
    "\n",
    "\n",
    "sk_accuracy = metrics.accuracy_score(y_test, predicted)\n",
    "print(\"Accuracy of sk learn's model ;\",sk_accuracy*100)\n"
   ]
  },
  {
   "cell_type": "markdown",
   "metadata": {},
   "source": [
    "Time Comparison between our model and scikit learn's"
   ]
  },
  {
   "cell_type": "code",
   "execution_count": 91,
   "metadata": {},
   "outputs": [
    {
     "name": "stdout",
     "output_type": "stream",
     "text": [
      "Our custom Perceptron is 1.00 times faster than scikit-learn's Perceptron.\n"
     ]
    }
   ],
   "source": [
    "# Calculate and print the time difference\n",
    "if my_training_time < sk_training_time:\n",
    "    faster_by = sk_training_time / my_training_time\n",
    "    print(f\"Our custom Perceptron is {faster_by:.2f} times faster than scikit-learn's Perceptron.\")\n",
    "else:\n",
    "    faster_by = my_training_time / sk_training_time\n",
    "    print(f\"Scikit-learn's Perceptron is {faster_by:.2f} times faster than my custom Perceptron.\")"
   ]
  }
 ],
 "metadata": {
  "kernelspec": {
   "display_name": "Python 3",
   "language": "python",
   "name": "python3"
  },
  "language_info": {
   "codemirror_mode": {
    "name": "ipython",
    "version": 3
   },
   "file_extension": ".py",
   "mimetype": "text/x-python",
   "name": "python",
   "nbconvert_exporter": "python",
   "pygments_lexer": "ipython3",
   "version": "3.11.4"
  }
 },
 "nbformat": 4,
 "nbformat_minor": 2
}
